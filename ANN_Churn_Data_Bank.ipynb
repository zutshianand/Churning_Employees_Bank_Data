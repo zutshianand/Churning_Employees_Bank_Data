{
 "cells": [
  {
   "cell_type": "code",
   "execution_count": 46,
   "metadata": {},
   "outputs": [],
   "source": [
    "import numpy as np\n",
    "import matplotlib.pyplot as plt\n",
    "import pandas as pd"
   ]
  },
  {
   "cell_type": "code",
   "execution_count": 47,
   "metadata": {},
   "outputs": [],
   "source": [
    "df = pd.read_csv('Churn_Modelling.csv')"
   ]
  },
  {
   "cell_type": "code",
   "execution_count": 48,
   "metadata": {},
   "outputs": [
    {
     "data": {
      "text/html": [
       "<div>\n",
       "<style>\n",
       "    .dataframe thead tr:only-child th {\n",
       "        text-align: right;\n",
       "    }\n",
       "\n",
       "    .dataframe thead th {\n",
       "        text-align: left;\n",
       "    }\n",
       "\n",
       "    .dataframe tbody tr th {\n",
       "        vertical-align: top;\n",
       "    }\n",
       "</style>\n",
       "<table border=\"1\" class=\"dataframe\">\n",
       "  <thead>\n",
       "    <tr style=\"text-align: right;\">\n",
       "      <th></th>\n",
       "      <th>RowNumber</th>\n",
       "      <th>CustomerId</th>\n",
       "      <th>Surname</th>\n",
       "      <th>CreditScore</th>\n",
       "      <th>Geography</th>\n",
       "      <th>Gender</th>\n",
       "      <th>Age</th>\n",
       "      <th>Tenure</th>\n",
       "      <th>Balance</th>\n",
       "      <th>NumOfProducts</th>\n",
       "      <th>HasCrCard</th>\n",
       "      <th>IsActiveMember</th>\n",
       "      <th>EstimatedSalary</th>\n",
       "      <th>Exited</th>\n",
       "    </tr>\n",
       "  </thead>\n",
       "  <tbody>\n",
       "    <tr>\n",
       "      <th>0</th>\n",
       "      <td>1</td>\n",
       "      <td>15634602</td>\n",
       "      <td>Hargrave</td>\n",
       "      <td>619</td>\n",
       "      <td>France</td>\n",
       "      <td>Female</td>\n",
       "      <td>42</td>\n",
       "      <td>2</td>\n",
       "      <td>0.00</td>\n",
       "      <td>1</td>\n",
       "      <td>1</td>\n",
       "      <td>1</td>\n",
       "      <td>101348.88</td>\n",
       "      <td>1</td>\n",
       "    </tr>\n",
       "    <tr>\n",
       "      <th>1</th>\n",
       "      <td>2</td>\n",
       "      <td>15647311</td>\n",
       "      <td>Hill</td>\n",
       "      <td>608</td>\n",
       "      <td>Spain</td>\n",
       "      <td>Female</td>\n",
       "      <td>41</td>\n",
       "      <td>1</td>\n",
       "      <td>83807.86</td>\n",
       "      <td>1</td>\n",
       "      <td>0</td>\n",
       "      <td>1</td>\n",
       "      <td>112542.58</td>\n",
       "      <td>0</td>\n",
       "    </tr>\n",
       "    <tr>\n",
       "      <th>2</th>\n",
       "      <td>3</td>\n",
       "      <td>15619304</td>\n",
       "      <td>Onio</td>\n",
       "      <td>502</td>\n",
       "      <td>France</td>\n",
       "      <td>Female</td>\n",
       "      <td>42</td>\n",
       "      <td>8</td>\n",
       "      <td>159660.80</td>\n",
       "      <td>3</td>\n",
       "      <td>1</td>\n",
       "      <td>0</td>\n",
       "      <td>113931.57</td>\n",
       "      <td>1</td>\n",
       "    </tr>\n",
       "    <tr>\n",
       "      <th>3</th>\n",
       "      <td>4</td>\n",
       "      <td>15701354</td>\n",
       "      <td>Boni</td>\n",
       "      <td>699</td>\n",
       "      <td>France</td>\n",
       "      <td>Female</td>\n",
       "      <td>39</td>\n",
       "      <td>1</td>\n",
       "      <td>0.00</td>\n",
       "      <td>2</td>\n",
       "      <td>0</td>\n",
       "      <td>0</td>\n",
       "      <td>93826.63</td>\n",
       "      <td>0</td>\n",
       "    </tr>\n",
       "    <tr>\n",
       "      <th>4</th>\n",
       "      <td>5</td>\n",
       "      <td>15737888</td>\n",
       "      <td>Mitchell</td>\n",
       "      <td>850</td>\n",
       "      <td>Spain</td>\n",
       "      <td>Female</td>\n",
       "      <td>43</td>\n",
       "      <td>2</td>\n",
       "      <td>125510.82</td>\n",
       "      <td>1</td>\n",
       "      <td>1</td>\n",
       "      <td>1</td>\n",
       "      <td>79084.10</td>\n",
       "      <td>0</td>\n",
       "    </tr>\n",
       "  </tbody>\n",
       "</table>\n",
       "</div>"
      ],
      "text/plain": [
       "   RowNumber  CustomerId   Surname  CreditScore Geography  Gender  Age  \\\n",
       "0          1    15634602  Hargrave          619    France  Female   42   \n",
       "1          2    15647311      Hill          608     Spain  Female   41   \n",
       "2          3    15619304      Onio          502    France  Female   42   \n",
       "3          4    15701354      Boni          699    France  Female   39   \n",
       "4          5    15737888  Mitchell          850     Spain  Female   43   \n",
       "\n",
       "   Tenure    Balance  NumOfProducts  HasCrCard  IsActiveMember  \\\n",
       "0       2       0.00              1          1               1   \n",
       "1       1   83807.86              1          0               1   \n",
       "2       8  159660.80              3          1               0   \n",
       "3       1       0.00              2          0               0   \n",
       "4       2  125510.82              1          1               1   \n",
       "\n",
       "   EstimatedSalary  Exited  \n",
       "0        101348.88       1  \n",
       "1        112542.58       0  \n",
       "2        113931.57       1  \n",
       "3         93826.63       0  \n",
       "4         79084.10       0  "
      ]
     },
     "execution_count": 48,
     "metadata": {},
     "output_type": "execute_result"
    }
   ],
   "source": [
    "df.head()"
   ]
  },
  {
   "cell_type": "code",
   "execution_count": 49,
   "metadata": {},
   "outputs": [],
   "source": [
    "X = df.iloc[: , 3:13].values"
   ]
  },
  {
   "cell_type": "code",
   "execution_count": 50,
   "metadata": {},
   "outputs": [
    {
     "data": {
      "text/plain": [
       "array([[619, 'France', 'Female', ..., 1, 1, 101348.88],\n",
       "       [608, 'Spain', 'Female', ..., 0, 1, 112542.58],\n",
       "       [502, 'France', 'Female', ..., 1, 0, 113931.57],\n",
       "       ..., \n",
       "       [709, 'France', 'Female', ..., 0, 1, 42085.58],\n",
       "       [772, 'Germany', 'Male', ..., 1, 0, 92888.52],\n",
       "       [792, 'France', 'Female', ..., 1, 0, 38190.78]], dtype=object)"
      ]
     },
     "execution_count": 50,
     "metadata": {},
     "output_type": "execute_result"
    }
   ],
   "source": [
    "X"
   ]
  },
  {
   "cell_type": "code",
   "execution_count": 51,
   "metadata": {},
   "outputs": [],
   "source": [
    "y = df.iloc[: , 13].values"
   ]
  },
  {
   "cell_type": "code",
   "execution_count": 52,
   "metadata": {},
   "outputs": [
    {
     "data": {
      "text/plain": [
       "array([1, 0, 1, ..., 1, 1, 0])"
      ]
     },
     "execution_count": 52,
     "metadata": {},
     "output_type": "execute_result"
    }
   ],
   "source": [
    "y"
   ]
  },
  {
   "cell_type": "code",
   "execution_count": 53,
   "metadata": {},
   "outputs": [],
   "source": [
    "from sklearn.preprocessing import LabelEncoder , OneHotEncoder\n",
    "label_encoder_X_1 = LabelEncoder()\n",
    "X[: , 1] = label_encoder_X_1.fit_transform(X[: , 1])"
   ]
  },
  {
   "cell_type": "code",
   "execution_count": 54,
   "metadata": {},
   "outputs": [
    {
     "data": {
      "text/plain": [
       "array([[619, 0, 'Female', ..., 1, 1, 101348.88],\n",
       "       [608, 2, 'Female', ..., 0, 1, 112542.58],\n",
       "       [502, 0, 'Female', ..., 1, 0, 113931.57],\n",
       "       ..., \n",
       "       [709, 0, 'Female', ..., 0, 1, 42085.58],\n",
       "       [772, 1, 'Male', ..., 1, 0, 92888.52],\n",
       "       [792, 0, 'Female', ..., 1, 0, 38190.78]], dtype=object)"
      ]
     },
     "execution_count": 54,
     "metadata": {},
     "output_type": "execute_result"
    }
   ],
   "source": [
    "X"
   ]
  },
  {
   "cell_type": "code",
   "execution_count": 55,
   "metadata": {},
   "outputs": [],
   "source": [
    "label_encoder_X_2 = LabelEncoder()\n",
    "X[: , 2] = label_encoder_X_2.fit_transform(X[: , 2])"
   ]
  },
  {
   "cell_type": "code",
   "execution_count": 56,
   "metadata": {},
   "outputs": [
    {
     "data": {
      "text/plain": [
       "array([[619, 0, 0, ..., 1, 1, 101348.88],\n",
       "       [608, 2, 0, ..., 0, 1, 112542.58],\n",
       "       [502, 0, 0, ..., 1, 0, 113931.57],\n",
       "       ..., \n",
       "       [709, 0, 0, ..., 0, 1, 42085.58],\n",
       "       [772, 1, 1, ..., 1, 0, 92888.52],\n",
       "       [792, 0, 0, ..., 1, 0, 38190.78]], dtype=object)"
      ]
     },
     "execution_count": 56,
     "metadata": {},
     "output_type": "execute_result"
    }
   ],
   "source": [
    "X"
   ]
  },
  {
   "cell_type": "code",
   "execution_count": 57,
   "metadata": {},
   "outputs": [],
   "source": [
    "onehotencoder = OneHotEncoder(categorical_features=[1])\n",
    "X = onehotencoder.fit_transform(X).toarray()"
   ]
  },
  {
   "cell_type": "code",
   "execution_count": 58,
   "metadata": {},
   "outputs": [
    {
     "data": {
      "text/plain": [
       "array([[     1,      0,      0, ...,      1,      1, 101348],\n",
       "       [     0,      0,      1, ...,      0,      1, 112542],\n",
       "       [     1,      0,      0, ...,      1,      0, 113931],\n",
       "       ..., \n",
       "       [     1,      0,      0, ...,      0,      1,  42085],\n",
       "       [     0,      1,      0, ...,      1,      0,  92888],\n",
       "       [     1,      0,      0, ...,      1,      0,  38190]])"
      ]
     },
     "execution_count": 58,
     "metadata": {},
     "output_type": "execute_result"
    }
   ],
   "source": [
    "X.astype(int)"
   ]
  },
  {
   "cell_type": "code",
   "execution_count": 59,
   "metadata": {},
   "outputs": [],
   "source": [
    "X = X[:, 1:]"
   ]
  },
  {
   "cell_type": "code",
   "execution_count": 61,
   "metadata": {},
   "outputs": [
    {
     "data": {
      "text/plain": [
       "array([[     0,      0,    619, ...,      1,      1, 101348],\n",
       "       [     0,      1,    608, ...,      0,      1, 112542],\n",
       "       [     0,      0,    502, ...,      1,      0, 113931],\n",
       "       ..., \n",
       "       [     0,      0,    709, ...,      0,      1,  42085],\n",
       "       [     1,      0,    772, ...,      1,      0,  92888],\n",
       "       [     0,      0,    792, ...,      1,      0,  38190]])"
      ]
     },
     "execution_count": 61,
     "metadata": {},
     "output_type": "execute_result"
    }
   ],
   "source": [
    "X.astype(int)"
   ]
  },
  {
   "cell_type": "code",
   "execution_count": 62,
   "metadata": {},
   "outputs": [],
   "source": [
    "from sklearn.model_selection import train_test_split\n",
    "X_train , X_test , y_train , y_test = train_test_split(X , y , test_size = 0.2 , random_state = 0)"
   ]
  },
  {
   "cell_type": "code",
   "execution_count": 64,
   "metadata": {},
   "outputs": [
    {
     "data": {
      "text/plain": [
       "array([[     0,      1,    667, ...,      1,      0, 163830],\n",
       "       [     1,      0,    427, ...,      1,      1,  57098],\n",
       "       [     0,      0,    535, ...,      1,      0, 185630],\n",
       "       ..., \n",
       "       [     0,      0,    738, ...,      1,      0, 181429],\n",
       "       [     0,      1,    590, ...,      1,      1, 148750],\n",
       "       [     1,      0,    623, ...,      1,      0, 118855]])"
      ]
     },
     "execution_count": 64,
     "metadata": {},
     "output_type": "execute_result"
    }
   ],
   "source": [
    "X_train.astype(int)"
   ]
  },
  {
   "cell_type": "code",
   "execution_count": 65,
   "metadata": {},
   "outputs": [],
   "source": [
    "from sklearn.preprocessing import StandardScaler\n",
    "sc = StandardScaler()\n",
    "X_train = sc.fit_transform(X_train)\n",
    "X_test = sc.transform(X_test)"
   ]
  },
  {
   "cell_type": "code",
   "execution_count": 66,
   "metadata": {},
   "outputs": [
    {
     "data": {
      "text/plain": [
       "array([[-0.5698444 ,  1.74309049,  0.16958176, ...,  0.64259497,\n",
       "        -1.03227043,  1.10643166],\n",
       "       [ 1.75486502, -0.57369368, -2.30455945, ...,  0.64259497,\n",
       "         0.9687384 , -0.74866447],\n",
       "       [-0.5698444 , -0.57369368, -1.19119591, ...,  0.64259497,\n",
       "        -1.03227043,  1.48533467],\n",
       "       ..., \n",
       "       [-0.5698444 , -0.57369368,  0.9015152 , ...,  0.64259497,\n",
       "        -1.03227043,  1.41231994],\n",
       "       [-0.5698444 ,  1.74309049, -0.62420521, ...,  0.64259497,\n",
       "         0.9687384 ,  0.84432121],\n",
       "       [ 1.75486502, -0.57369368, -0.28401079, ...,  0.64259497,\n",
       "        -1.03227043,  0.32472465]])"
      ]
     },
     "execution_count": 66,
     "metadata": {},
     "output_type": "execute_result"
    }
   ],
   "source": [
    "X_train"
   ]
  },
  {
   "cell_type": "markdown",
   "metadata": {},
   "source": [
    "# Building the ANN"
   ]
  },
  {
   "cell_type": "code",
   "execution_count": 67,
   "metadata": {},
   "outputs": [],
   "source": [
    "import keras"
   ]
  },
  {
   "cell_type": "code",
   "execution_count": 70,
   "metadata": {},
   "outputs": [],
   "source": [
    "from keras.models import Sequential\n",
    "from keras.layers import Dense #Randomly initialise the weights"
   ]
  },
  {
   "cell_type": "code",
   "execution_count": 71,
   "metadata": {},
   "outputs": [],
   "source": [
    "classifier = Sequential()"
   ]
  },
  {
   "cell_type": "code",
   "execution_count": 74,
   "metadata": {},
   "outputs": [],
   "source": [
    "#Create 1st hidden layer\n",
    "classifier.add(Dense(input_dim = 11 , units = 6 , kernel_initializer = 'uniform' , activation='relu'))"
   ]
  },
  {
   "cell_type": "code",
   "execution_count": 75,
   "metadata": {},
   "outputs": [],
   "source": [
    "#Create 2nd hidden layer\n",
    "classifier.add(Dense(units = 6 , kernel_initializer = 'uniform' , activation='relu'))"
   ]
  },
  {
   "cell_type": "code",
   "execution_count": 76,
   "metadata": {},
   "outputs": [],
   "source": [
    "#Create output layer\n",
    "classifier.add(Dense(units = 1 , kernel_initializer = 'uniform' , activation='sigmoid'))\n",
    "#activation = 'softmax' for more than one output"
   ]
  },
  {
   "cell_type": "code",
   "execution_count": 77,
   "metadata": {},
   "outputs": [],
   "source": [
    "classifier.compile(optimizer='adam' , loss='binary_crossentropy' , metrics=['accuracy'])"
   ]
  },
  {
   "cell_type": "code",
   "execution_count": 78,
   "metadata": {},
   "outputs": [
    {
     "name": "stdout",
     "output_type": "stream",
     "text": [
      "Epoch 1/100\n",
      "8000/8000 [==============================] - 5s 579us/step - loss: 0.4827 - acc: 0.7960\n",
      "Epoch 2/100\n",
      "8000/8000 [==============================] - 4s 483us/step - loss: 0.4294 - acc: 0.7960\n",
      "Epoch 3/100\n",
      "8000/8000 [==============================] - 4s 472us/step - loss: 0.4234 - acc: 0.7990\n",
      "Epoch 4/100\n",
      "8000/8000 [==============================] - 4s 479us/step - loss: 0.4193 - acc: 0.8254\n",
      "Epoch 5/100\n",
      "8000/8000 [==============================] - 4s 505us/step - loss: 0.4169 - acc: 0.8255\n",
      "Epoch 6/100\n",
      "8000/8000 [==============================] - 4s 478us/step - loss: 0.4149 - acc: 0.8292\n",
      "Epoch 7/100\n",
      "8000/8000 [==============================] - 4s 476us/step - loss: 0.4135 - acc: 0.8311\n",
      "Epoch 8/100\n",
      "8000/8000 [==============================] - 4s 483us/step - loss: 0.4120 - acc: 0.8312\n",
      "Epoch 9/100\n",
      "8000/8000 [==============================] - 4s 481us/step - loss: 0.4108 - acc: 0.8320\n",
      "Epoch 10/100\n",
      "8000/8000 [==============================] - 4s 475us/step - loss: 0.4099 - acc: 0.8344\n",
      "Epoch 11/100\n",
      "8000/8000 [==============================] - 4s 473us/step - loss: 0.4087 - acc: 0.8352\n",
      "Epoch 12/100\n",
      "8000/8000 [==============================] - 4s 502us/step - loss: 0.4079 - acc: 0.8329\n",
      "Epoch 13/100\n",
      "8000/8000 [==============================] - 4s 508us/step - loss: 0.4076 - acc: 0.8345\n",
      "Epoch 14/100\n",
      "8000/8000 [==============================] - 4s 478us/step - loss: 0.4064 - acc: 0.8349\n",
      "Epoch 15/100\n",
      "8000/8000 [==============================] - 4s 476us/step - loss: 0.4064 - acc: 0.8337\n",
      "Epoch 16/100\n",
      "8000/8000 [==============================] - 4s 493us/step - loss: 0.4056 - acc: 0.8352\n",
      "Epoch 17/100\n",
      "8000/8000 [==============================] - 4s 496us/step - loss: 0.4053 - acc: 0.8362\n",
      "Epoch 18/100\n",
      "8000/8000 [==============================] - 4s 510us/step - loss: 0.4050 - acc: 0.8345\n",
      "Epoch 19/100\n",
      "8000/8000 [==============================] - 4s 473us/step - loss: 0.4048 - acc: 0.8340\n",
      "Epoch 20/100\n",
      "8000/8000 [==============================] - 4s 503us/step - loss: 0.4044 - acc: 0.8340\n",
      "Epoch 21/100\n",
      "8000/8000 [==============================] - 4s 506us/step - loss: 0.4044 - acc: 0.8351\n",
      "Epoch 22/100\n",
      "8000/8000 [==============================] - 4s 483us/step - loss: 0.4038 - acc: 0.8339\n",
      "Epoch 23/100\n",
      "8000/8000 [==============================] - 4s 478us/step - loss: 0.4037 - acc: 0.8335\n",
      "Epoch 24/100\n",
      "8000/8000 [==============================] - 4s 496us/step - loss: 0.4037 - acc: 0.8356\n",
      "Epoch 25/100\n",
      "8000/8000 [==============================] - 4s 484us/step - loss: 0.4027 - acc: 0.8352\n",
      "Epoch 26/100\n",
      "8000/8000 [==============================] - 4s 476us/step - loss: 0.4031 - acc: 0.8357\n",
      "Epoch 27/100\n",
      "8000/8000 [==============================] - 4s 479us/step - loss: 0.4023 - acc: 0.8344\n",
      "Epoch 28/100\n",
      "8000/8000 [==============================] - 4s 475us/step - loss: 0.4025 - acc: 0.8336\n",
      "Epoch 29/100\n",
      "8000/8000 [==============================] - 4s 482us/step - loss: 0.4027 - acc: 0.8344\n",
      "Epoch 30/100\n",
      "8000/8000 [==============================] - 4s 497us/step - loss: 0.4022 - acc: 0.8355\n",
      "Epoch 31/100\n",
      "8000/8000 [==============================] - 4s 497us/step - loss: 0.4021 - acc: 0.8346\n",
      "Epoch 32/100\n",
      "8000/8000 [==============================] - 4s 486us/step - loss: 0.4026 - acc: 0.8351\n",
      "Epoch 33/100\n",
      "8000/8000 [==============================] - 4s 494us/step - loss: 0.4020 - acc: 0.8349\n",
      "Epoch 34/100\n",
      "8000/8000 [==============================] - 4s 498us/step - loss: 0.4020 - acc: 0.8347\n",
      "Epoch 35/100\n",
      "8000/8000 [==============================] - 4s 489us/step - loss: 0.4020 - acc: 0.8345\n",
      "Epoch 36/100\n",
      "8000/8000 [==============================] - 4s 509us/step - loss: 0.4018 - acc: 0.8359\n",
      "Epoch 37/100\n",
      "8000/8000 [==============================] - 4s 475us/step - loss: 0.4020 - acc: 0.8336\n",
      "Epoch 38/100\n",
      "8000/8000 [==============================] - 4s 486us/step - loss: 0.4015 - acc: 0.8369\n",
      "Epoch 39/100\n",
      "8000/8000 [==============================] - 4s 475us/step - loss: 0.4015 - acc: 0.8346\n",
      "Epoch 40/100\n",
      "8000/8000 [==============================] - 4s 504us/step - loss: 0.4015 - acc: 0.8340\n",
      "Epoch 41/100\n",
      "8000/8000 [==============================] - 4s 498us/step - loss: 0.4011 - acc: 0.8345\n",
      "Epoch 42/100\n",
      "8000/8000 [==============================] - 4s 492us/step - loss: 0.4016 - acc: 0.8339\n",
      "Epoch 43/100\n",
      "8000/8000 [==============================] - 4s 491us/step - loss: 0.4013 - acc: 0.8351\n",
      "Epoch 44/100\n",
      "8000/8000 [==============================] - 4s 503us/step - loss: 0.4016 - acc: 0.8355\n",
      "Epoch 45/100\n",
      "8000/8000 [==============================] - 4s 501us/step - loss: 0.4013 - acc: 0.8344\n",
      "Epoch 46/100\n",
      "8000/8000 [==============================] - 4s 501us/step - loss: 0.4007 - acc: 0.8355\n",
      "Epoch 47/100\n",
      "8000/8000 [==============================] - 4s 476us/step - loss: 0.4012 - acc: 0.8341\n",
      "Epoch 48/100\n",
      "8000/8000 [==============================] - 4s 484us/step - loss: 0.4011 - acc: 0.8350\n",
      "Epoch 49/100\n",
      "8000/8000 [==============================] - 4s 473us/step - loss: 0.4011 - acc: 0.8351\n",
      "Epoch 50/100\n",
      "8000/8000 [==============================] - 4s 454us/step - loss: 0.4007 - acc: 0.8350\n",
      "Epoch 51/100\n",
      "8000/8000 [==============================] - 4s 456us/step - loss: 0.4015 - acc: 0.8330\n",
      "Epoch 52/100\n",
      "8000/8000 [==============================] - 4s 453us/step - loss: 0.4011 - acc: 0.8342\n",
      "Epoch 53/100\n",
      "8000/8000 [==============================] - 4s 458us/step - loss: 0.4016 - acc: 0.8336\n",
      "Epoch 54/100\n",
      "8000/8000 [==============================] - 4s 452us/step - loss: 0.4010 - acc: 0.8360\n",
      "Epoch 55/100\n",
      "8000/8000 [==============================] - 4s 456us/step - loss: 0.4008 - acc: 0.8342\n",
      "Epoch 56/100\n",
      "8000/8000 [==============================] - 4s 454us/step - loss: 0.4006 - acc: 0.8346\n",
      "Epoch 57/100\n",
      "8000/8000 [==============================] - 4s 450us/step - loss: 0.4007 - acc: 0.8351\n",
      "Epoch 58/100\n",
      "8000/8000 [==============================] - 4s 469us/step - loss: 0.4010 - acc: 0.8330\n",
      "Epoch 59/100\n",
      "8000/8000 [==============================] - 4s 450us/step - loss: 0.4008 - acc: 0.8339\n",
      "Epoch 60/100\n",
      "8000/8000 [==============================] - 4s 468us/step - loss: 0.4009 - acc: 0.8329\n",
      "Epoch 61/100\n",
      "8000/8000 [==============================] - 4s 454us/step - loss: 0.4006 - acc: 0.8352\n",
      "Epoch 62/100\n",
      "8000/8000 [==============================] - 4s 454us/step - loss: 0.4010 - acc: 0.8347\n",
      "Epoch 63/100\n",
      "8000/8000 [==============================] - 4s 455us/step - loss: 0.4004 - acc: 0.8341\n",
      "Epoch 64/100\n",
      "8000/8000 [==============================] - 4s 453us/step - loss: 0.4008 - acc: 0.8351\n",
      "Epoch 65/100\n",
      "8000/8000 [==============================] - 4s 455us/step - loss: 0.4009 - acc: 0.8342\n",
      "Epoch 66/100\n",
      "8000/8000 [==============================] - 4s 454us/step - loss: 0.4009 - acc: 0.8341\n",
      "Epoch 67/100\n",
      "8000/8000 [==============================] - 4s 455us/step - loss: 0.4009 - acc: 0.8335\n",
      "Epoch 68/100\n",
      "8000/8000 [==============================] - 4s 467us/step - loss: 0.4004 - acc: 0.8332\n",
      "Epoch 69/100\n",
      "8000/8000 [==============================] - 4s 458us/step - loss: 0.4003 - acc: 0.8341\n",
      "Epoch 70/100\n",
      "8000/8000 [==============================] - 4s 453us/step - loss: 0.4011 - acc: 0.8352\n",
      "Epoch 71/100\n",
      "8000/8000 [==============================] - 4s 453us/step - loss: 0.4005 - acc: 0.8324\n",
      "Epoch 72/100\n",
      "8000/8000 [==============================] - 4s 457us/step - loss: 0.4004 - acc: 0.8325\n",
      "Epoch 73/100\n",
      "8000/8000 [==============================] - 4s 455us/step - loss: 0.4000 - acc: 0.8344\n",
      "Epoch 74/100\n",
      "8000/8000 [==============================] - 4s 456us/step - loss: 0.4006 - acc: 0.8342\n",
      "Epoch 75/100\n",
      "8000/8000 [==============================] - 4s 454us/step - loss: 0.4008 - acc: 0.8341\n",
      "Epoch 76/100\n",
      "8000/8000 [==============================] - 4s 465us/step - loss: 0.4000 - acc: 0.8357\n",
      "Epoch 77/100\n",
      "8000/8000 [==============================] - 4s 469us/step - loss: 0.4007 - acc: 0.8336\n",
      "Epoch 78/100\n",
      "8000/8000 [==============================] - 4s 460us/step - loss: 0.4005 - acc: 0.8356\n",
      "Epoch 79/100\n",
      "8000/8000 [==============================] - 4s 456us/step - loss: 0.4004 - acc: 0.8354\n",
      "Epoch 80/100\n",
      "8000/8000 [==============================] - 4s 460us/step - loss: 0.4007 - acc: 0.8342\n",
      "Epoch 81/100\n",
      "8000/8000 [==============================] - 4s 456us/step - loss: 0.4006 - acc: 0.8352\n",
      "Epoch 82/100\n"
     ]
    },
    {
     "name": "stdout",
     "output_type": "stream",
     "text": [
      "8000/8000 [==============================] - 4s 446us/step - loss: 0.4005 - acc: 0.8347\n",
      "Epoch 83/100\n",
      "8000/8000 [==============================] - 4s 447us/step - loss: 0.4006 - acc: 0.8356\n",
      "Epoch 84/100\n",
      "8000/8000 [==============================] - 4s 451us/step - loss: 0.4002 - acc: 0.8350\n",
      "Epoch 85/100\n",
      "8000/8000 [==============================] - 4s 460us/step - loss: 0.4006 - acc: 0.8362\n",
      "Epoch 86/100\n",
      "8000/8000 [==============================] - 4s 449us/step - loss: 0.4009 - acc: 0.8350\n",
      "Epoch 87/100\n",
      "8000/8000 [==============================] - 4s 449us/step - loss: 0.4005 - acc: 0.8352\n",
      "Epoch 88/100\n",
      "8000/8000 [==============================] - 4s 466us/step - loss: 0.4006 - acc: 0.8342\n",
      "Epoch 89/100\n",
      "8000/8000 [==============================] - 4s 454us/step - loss: 0.4005 - acc: 0.8350\n",
      "Epoch 90/100\n",
      "8000/8000 [==============================] - 4s 450us/step - loss: 0.3997 - acc: 0.8337\n",
      "Epoch 91/100\n",
      "8000/8000 [==============================] - 4s 475us/step - loss: 0.4009 - acc: 0.8340\n",
      "Epoch 92/100\n",
      "8000/8000 [==============================] - 4s 462us/step - loss: 0.4007 - acc: 0.8347\n",
      "Epoch 93/100\n",
      "8000/8000 [==============================] - 4s 455us/step - loss: 0.4001 - acc: 0.8346\n",
      "Epoch 94/100\n",
      "8000/8000 [==============================] - 4s 451us/step - loss: 0.4004 - acc: 0.8347\n",
      "Epoch 95/100\n",
      "8000/8000 [==============================] - 4s 453us/step - loss: 0.4003 - acc: 0.8345\n",
      "Epoch 96/100\n",
      "8000/8000 [==============================] - 4s 451us/step - loss: 0.4003 - acc: 0.8336\n",
      "Epoch 97/100\n",
      "8000/8000 [==============================] - 4s 451us/step - loss: 0.4003 - acc: 0.8350\n",
      "Epoch 98/100\n",
      "8000/8000 [==============================] - 4s 457us/step - loss: 0.4005 - acc: 0.8347\n",
      "Epoch 99/100\n",
      "8000/8000 [==============================] - 4s 462us/step - loss: 0.4008 - acc: 0.8347\n",
      "Epoch 100/100\n",
      "8000/8000 [==============================] - 4s 462us/step - loss: 0.4003 - acc: 0.8346\n"
     ]
    },
    {
     "data": {
      "text/plain": [
       "<keras.callbacks.History at 0x12023dc88>"
      ]
     },
     "execution_count": 78,
     "metadata": {},
     "output_type": "execute_result"
    }
   ],
   "source": [
    "classifier.fit(X_train , y_train , batch_size=10 , epochs=100)"
   ]
  },
  {
   "cell_type": "code",
   "execution_count": 79,
   "metadata": {},
   "outputs": [],
   "source": [
    "y_pred = classifier.predict(X_test)"
   ]
  },
  {
   "cell_type": "code",
   "execution_count": 80,
   "metadata": {},
   "outputs": [
    {
     "data": {
      "text/plain": [
       "array([[ 0.22667748],\n",
       "       [ 0.37607485],\n",
       "       [ 0.19435899],\n",
       "       ..., \n",
       "       [ 0.16717382],\n",
       "       [ 0.18196474],\n",
       "       [ 0.11010176]], dtype=float32)"
      ]
     },
     "execution_count": 80,
     "metadata": {},
     "output_type": "execute_result"
    }
   ],
   "source": [
    "y_pred"
   ]
  },
  {
   "cell_type": "code",
   "execution_count": 81,
   "metadata": {},
   "outputs": [],
   "source": [
    "for i in range(0 , len(y_pred)):\n",
    "    if y_pred[i][0] > 0.5 : \n",
    "        y_pred[i][0] = 1.0\n",
    "    else:\n",
    "        y_pred[i][0] = 0.0"
   ]
  },
  {
   "cell_type": "code",
   "execution_count": 82,
   "metadata": {},
   "outputs": [
    {
     "data": {
      "text/plain": [
       "array([[ 0.],\n",
       "       [ 0.],\n",
       "       [ 0.],\n",
       "       ..., \n",
       "       [ 0.],\n",
       "       [ 0.],\n",
       "       [ 0.]], dtype=float32)"
      ]
     },
     "execution_count": 82,
     "metadata": {},
     "output_type": "execute_result"
    }
   ],
   "source": [
    "y_pred"
   ]
  },
  {
   "cell_type": "code",
   "execution_count": 83,
   "metadata": {},
   "outputs": [],
   "source": [
    "from sklearn.metrics import confusion_matrix\n",
    "cm = confusion_matrix(y_test , y_pred)"
   ]
  },
  {
   "cell_type": "code",
   "execution_count": 85,
   "metadata": {},
   "outputs": [
    {
     "data": {
      "text/plain": [
       "array([[1537,   58],\n",
       "       [ 255,  150]])"
      ]
     },
     "execution_count": 85,
     "metadata": {},
     "output_type": "execute_result"
    }
   ],
   "source": [
    "cm"
   ]
  },
  {
   "cell_type": "code",
   "execution_count": 86,
   "metadata": {},
   "outputs": [],
   "source": [
    "accuracy = (1537 + 150) / (255 + 58 + 1537 + 150)"
   ]
  },
  {
   "cell_type": "code",
   "execution_count": 88,
   "metadata": {},
   "outputs": [
    {
     "data": {
      "text/plain": [
       "0.8435"
      ]
     },
     "execution_count": 88,
     "metadata": {},
     "output_type": "execute_result"
    }
   ],
   "source": [
    "accuracy"
   ]
  },
  {
   "cell_type": "markdown",
   "metadata": {},
   "source": [
    "# Prediction of a new customer\n",
    "-  Geography: France\n",
    "-  Credit Score: 600\n",
    "-  Gender: Male\n",
    "-  Age: 40 years old\n",
    "-  Tenure: 3 years\n",
    "-  Balance: 60000 \n",
    "-  Number of Products: 2\n",
    "-  Does this customer have a credit card ? Yes\n",
    "-  Is this customer an Active Member: Yes\n",
    "-  Estimated Salary: 50000"
   ]
  },
  {
   "cell_type": "code",
   "execution_count": 91,
   "metadata": {},
   "outputs": [],
   "source": [
    "new_prediction = classifier.predict(sc.transform(np.array([[0.0 , 0 , 600 , 1 , 40 , 3 , 60000 , 2 , 1 , 1 , 50000]])))"
   ]
  },
  {
   "cell_type": "code",
   "execution_count": 92,
   "metadata": {},
   "outputs": [
    {
     "data": {
      "text/plain": [
       "array([[ 0.08657349]], dtype=float32)"
      ]
     },
     "execution_count": 92,
     "metadata": {},
     "output_type": "execute_result"
    }
   ],
   "source": [
    "new_prediction"
   ]
  }
 ],
 "metadata": {
  "kernelspec": {
   "display_name": "Python 3",
   "language": "python",
   "name": "python3"
  },
  "language_info": {
   "codemirror_mode": {
    "name": "ipython",
    "version": 3
   },
   "file_extension": ".py",
   "mimetype": "text/x-python",
   "name": "python",
   "nbconvert_exporter": "python",
   "pygments_lexer": "ipython3",
   "version": "3.6.3"
  }
 },
 "nbformat": 4,
 "nbformat_minor": 2
}
